#IMPORT LIBRARIES
from os.path import join
import shutil
import glob
import sys
import random
import numpy as np
import pandas as pd
import matplotlib.pyplot as plt

import cv2
import os
import itertools
from itertools import chain
from skimage.io import imread, imshow, imread_collection, concatenate_images
import imageio
from skimage.transform import resize
import re
import itertools
from skimage.transform import resize
from skimage.morphology import label
from tqdm import tqdm
import random
from skimage.color import rgb2gray
from sklearn.model_selection import train_test_split
import tensorflow as tf
import keras
from keras.models import Sequential
from keras.layers import Dense, Dropout, Activation, Add, Flatten, Conv2D, MaxPooling2D, AveragePooling2D, BatchNormalization,Conv2D, UpSampling2D, Lambda, ZeroPadding2D
from keras.models import Model, load_model
from keras.layers import Input, SpatialDropout2D, SeparableConv2D, LocallyConnected2D
from keras.layers.core import Dropout, Lambda
from keras.layers.convolutional import Conv2D, Conv2DTranspose
from keras.layers.pooling import MaxPooling2D
from keras.layers.merge import concatenate
from keras import backend as K
from keras.callbacks import Callback, EarlyStopping, ReduceLROnPlateau, ModelCheckpoint, TensorBoard
from keras import initializers, layers, models
from keras.preprocessing.image import ImageDataGenerator
from keras import callbacks
from keras import optimizers
from keras import regularizers
from keras.losses import mse

from keras import callbacks
from scipy import ndimage

from keras import optimizers
import skimage
from pathlib import Path
from subprocess import check_output

import matplotlib.patches as mpatches
from mpl_toolkits.axes_grid1 import make_axes_locatable

# from UnetUtils import *
from utils import *


IMG_WIDTH = 1600
IMG_HEIGHT = 1200

width_crop = 512
height_crop = 512

ALL_IMAGES = Path('./DATASET/test/all_images/images/')
ALL_MASKS = Path('./DATASET/test/all_masks/masks/')

test_ids = check_output(["ls", str(ALL_IMAGES) + '/']).decode("utf8").split()

TotTestSamples = len(check_output(["ls",str(ALL_IMAGES) + '/']).decode("utf8").split())


# WeightedLoss = create_weighted_binary_crossentropy(1, 1.5)
MapWeightedLoss = create_weighted_binary_crossentropy_overcrowding(1, 1.5)
# LossHalved = create_weighted_binary_crossentropy(1, 1.5)


# standardizer = load_model('model_results/standardizer_2.h5')


# model = load_model('model_results/ResUnetStandardized.h5', custom_objects={'mean_iou': mean_iou, 'dice_coef': 
#                                                                 dice_coef, 'weighted_binary_crossentropy': WeightedLoss})


model = load_model('model_results/Unet.h5', custom_objects={'mean_iou': mean_iou, 'dice_coef': 
                                                dice_coef,
                                                      'weighted_binary_crossentropy': MapWeightedLoss})


test_ids = check_output(["ls", str(ALL_IMAGES) + '/']).decode("utf8").split()
test_ids_m = check_output(["ls", str(ALL_MASKS) + '/']).decode("utf8").split()

#sort in numeric order
try:
    NumberTest = [int(num.split('.')[0]) for num in test_ids]
    NumberTest.sort()
except:
    pass


start=None
end=None
Original = np.zeros(shape=(len(test_ids[:30]),IMG_HEIGHT, IMG_WIDTH, 3), dtype =np.int)
Target = np.zeros(shape=(len(test_ids[:30]),IMG_HEIGHT, IMG_WIDTH, 1), dtype =np.int)
for i in range(len(test_ids[:30])):
    Original[i,:,:,:] = read_images(str(ALL_IMAGES)+'/', test_ids[i])
#     tids = test_ids[i].split('.')[0] +'.'+ test_ids[i].split('.')[1].lower()
    Target[i,:,:,:] = read_masks(str(ALL_MASKS)+'/', test_ids_m[i])[:,:,0:1]
# Target = read_image_masks(ALL_IMAGES, ALL_MASKS)


Original_scaled = Original *1./255


# standardized = standardizer.predict(Original_scaled, verbose=1, batch_size = 1)


Original_scaled.shape


preds_map = model.predict((Original_scaled), verbose=1, batch_size = 1)
# preds_map_res = model.predict((Original_scaled), verbose=1, batch_size = 1)
# preds_map_stand = model.predict(standardized, verbose=1, batch_size = 1)


# Predicted = (preds_map > 0.55).astype(np.uint8)


# Predicted_ref = (preds_map[2] > 0.85).astype(np.uint8)
Predicted = (preds_map > 0.7).astype(np.uint8)
Predicted_res = (preds_map_res > 0.7).astype(np.uint8)
# Predicted_halved = (preds_map[0] > 0.85).astype(np.uint8)
# Predicted_standardized = (preds_map_stand > 0.55).astype(np.uint8)


# for i in range(len(Original)):

#     original = Original[i]
#     standard = standardized[i]
    
#     plt.figure(figsize=(18,6))
    
#     plt.subplot(1,2,1)
#     plt.title("Original")
#     plt.axis('off')
#     plt.imshow(original)
    
#     plt.subplot(1,2,2)
#     plt.title("Predict")
#     plt.axis('off')
#     plt.imshow(standard)
    
    
#     plt.show()


for i in range(len(Original)):
    
#     print(test_ids[i+start])
    original = Original[i]
    target = Target[i]
    heat_map = preds_map[i]
#     halved = Predicted_halved[i]
    predicted = Predicted[i]
    predicted_res = Predicted_res[i]
#     ref = Predicted_ref[i]

        
    fig, axes = plt.subplots(1, 3, figsize=(18, 6))
       
    im = axes[0].imshow(original)
    axes[0].set_title('Original')
    
    im = axes[1].imshow(np.squeeze(target), cmap='gray')
    axes[1].set_title('Target')
    
    im = axes[2].pcolormesh(np.flipud(np.squeeze(heat_map)), cmap='jet')
    divider = make_axes_locatable(axes[2])
    cax = divider.append_axes("right", size="5%", pad=0.05)
    plt.colorbar(im, cax=cax)
    axes[2].set_title('Predicted heatmap') 
    
#     plt.subplot(2,3,1)
#     plt.title("Original")
#     plt.axis('off')
#     plt.imshow(original)
    
#     plt.subplot(2,3,2)
#     plt.title("Target")
#     plt.axis('off')
#     plt.imshow(np.squeeze(target), cmap = 'gray')
    
#     plt.subplot(2,3,3)
#     plt.title("pred_mat_output (not_refined)")
#     plt.axis('off')
#     plt.imshow(np.squeeze(heat_map),cmap='jet')    
    
        
    plt.figure(figsize=(18,12))
    
    plt.subplot(1,3,1)
    plt.title("Predict")
    plt.axis('off')
    plt.imshow(np.squeeze(predicted),cmap='gray')
    
    plt.subplot(1,3,2)
    plt.title("Predict")
    plt.axis('off')
    plt.imshow(np.squeeze(predicted_res),cmap='gray')

    
    plt.subplot(1,3,3)
    plt.title("Target")
    plt.axis('off')
    plt.imshow(np.squeeze(target),cmap='gray')
    
    
    plt.show()


# def func(x):

#     greater = K.greater_equal(x,0.5) #will return boolean values
#     greater = K.cast(greater, dtype=K.floatx()) #will convert bool to 0 and 1    
#     return greater 


# model.add(Lamnda(func,output_shape=yourOtputShapeIfUsingTheano))
